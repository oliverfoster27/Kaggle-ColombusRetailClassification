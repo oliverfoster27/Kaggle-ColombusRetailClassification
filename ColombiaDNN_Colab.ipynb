{
  "nbformat": 4,
  "nbformat_minor": 0,
  "metadata": {
    "colab": {
      "name": "ColombiaDNN_Colab.ipynb",
      "provenance": []
    },
    "kernelspec": {
      "name": "python3",
      "display_name": "Python 3"
    },
    "accelerator": "GPU"
  },
  "cells": [
    {
      "cell_type": "code",
      "metadata": {
        "id": "kkkIvTxMCyr2",
        "colab_type": "code",
        "colab": {
          "base_uri": "https://localhost:8080/",
          "height": 64
        },
        "outputId": "e56e8f85-39cb-42ef-dfa9-6f01ed68e6ea"
      },
      "source": [
        "# TensorFlow and tf.keras\n",
        "import tensorflow as tf\n",
        "from tensorflow import keras\n",
        "import matplotlib.pyplot as plt\n",
        "import io\n",
        "import numpy as np\n",
        "import numpy as np\n",
        "import pandas as pd\n",
        "from sklearn.base import BaseEstimator, TransformerMixin\n",
        "from sklearn.preprocessing import OneHotEncoder, StandardScaler\n",
        "from sklearn.impute import SimpleImputer\n",
        "from sklearn.pipeline import make_pipeline, FeatureUnion, Pipeline\n",
        "from sklearn.linear_model import LogisticRegression\n",
        "from sklearn.model_selection import train_test_split\n",
        "from sklearn.metrics import accuracy_score\n",
        "from sklearn.model_selection import GridSearchCV\n",
        "from sklearn.svm import SVC\n",
        "from sklearn.ensemble import GradientBoostingClassifier\n",
        "from sklearn.ensemble import RandomForestClassifier\n",
        "from sklearn.ensemble import BaggingClassifier\n",
        "from collections import namedtuple\n",
        "from sklearn.tree import DecisionTreeClassifier\n",
        "from sklearn.feature_selection import RFE, SelectFromModel"
      ],
      "execution_count": 2,
      "outputs": [
        {
          "output_type": "display_data",
          "data": {
            "text/html": [
              "<p style=\"color: red;\">\n",
              "The default version of TensorFlow in Colab will soon switch to TensorFlow 2.x.<br>\n",
              "We recommend you <a href=\"https://www.tensorflow.org/guide/migrate\" target=\"_blank\">upgrade</a> now \n",
              "or ensure your notebook will continue to use TensorFlow 1.x via the <code>%tensorflow_version 1.x</code> magic:\n",
              "<a href=\"https://colab.research.google.com/notebooks/tensorflow_version.ipynb\" target=\"_blank\">more info</a>.</p>\n"
            ],
            "text/plain": [
              "<IPython.core.display.HTML object>"
            ]
          },
          "metadata": {
            "tags": []
          }
        }
      ]
    },
    {
      "cell_type": "code",
      "metadata": {
        "id": "iT0eS0DNC36-",
        "colab_type": "code",
        "colab": {}
      },
      "source": [
        "class CategoricalSelector(BaseEstimator, TransformerMixin):\n",
        "    # Class Constructor\n",
        "    def __init__(self):\n",
        "        self._feature_names = ['Month', 'VisitorType', 'Weekend', 'OperatingSystems', 'Browser', 'Region',\n",
        "                                'TrafficType', 'SpecialDay']\n",
        "\n",
        "        # Return self nothing else to do here\n",
        "\n",
        "    def fit(self, X, y=None):\n",
        "        return self\n",
        "\n",
        "        # Method that describes what we need this transformer to do\n",
        "\n",
        "    def transform(self, X, y=None):\n",
        "        return X[self._feature_names]\n",
        "\n",
        "\n",
        "class NumericalSelector(BaseEstimator, TransformerMixin):\n",
        "    # Class Constructor\n",
        "    def __init__(self):\n",
        "        self._feature_names = ['Administrative', 'Administrative_Duration', 'Informational', 'Informational_Duration',\n",
        "                              'ProductRelated', 'ProductRelated_Duration', 'BounceRates', 'ExitRates', 'PageValues']\n",
        "\n",
        "        # Return self nothing else to do here\n",
        "\n",
        "    def fit(self, X, y=None):\n",
        "        return self\n",
        "\n",
        "        # Method that describes what we need this transformer to do\n",
        "\n",
        "    def transform(self, X, y=None):\n",
        "        return X[self._feature_names]\n",
        "\n",
        "\n",
        "class CategoricalTransformer(BaseEstimator, TransformerMixin):\n",
        "    # Class constructor method that takes in a list of values as its argument\n",
        "    def __init__(self):\n",
        "        self.minority_traffic_types = [7, 9, 12, 14, 15, 16, 17, 18, 19]\n",
        "        self.minority_browser_types = [3, 7, 9, 11, 12, 13]\n",
        "\n",
        "    # Return self nothing else to do here\n",
        "    def fit(self, X, y=None):\n",
        "        return self\n",
        "\n",
        "    # Transformer method we wrote for this transformer\n",
        "    def transform(self, X, y=None):\n",
        "\n",
        "        # Convert minority operating systems to one \"Other\" category\n",
        "        X.loc[:, 'OperatingSystems'] = X['OperatingSystems'].apply(lambda x: x if x < 4 else -1)\n",
        "        # Convert minority traffic types to one \"Other\" category\n",
        "        X.loc[:, 'TrafficType'] = X['TrafficType'].apply(lambda x: x if x not in self.minority_traffic_types else -1)\n",
        "        # Convert minority browser types to one \"Other\" category\n",
        "        X.loc[:, 'Browser'] = X['Browser'].apply(lambda x: x if x not in self.minority_browser_types else -1)\n",
        "\n",
        "        return X"
      ],
      "execution_count": 0,
      "outputs": []
    },
    {
      "cell_type": "code",
      "metadata": {
        "id": "Vl3uQL0hDZD0",
        "colab_type": "code",
        "colab": {
          "resources": {
            "http://localhost:8080/nbextensions/google.colab/files.js": {
              "data": "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",
              "ok": true,
              "headers": [
                [
                  "content-type",
                  "application/javascript"
                ]
              ],
              "status": 200,
              "status_text": ""
            }
          },
          "base_uri": "https://localhost:8080/",
          "height": 75
        },
        "outputId": "74de060c-2248-44e6-b7c6-61bfeecef809"
      },
      "source": [
        "from google.colab import files\n",
        "uploaded = files.upload()"
      ],
      "execution_count": 5,
      "outputs": [
        {
          "output_type": "display_data",
          "data": {
            "text/html": [
              "\n",
              "     <input type=\"file\" id=\"files-89621011-e9d9-49cf-8f63-d30b260109a8\" name=\"files[]\" multiple disabled />\n",
              "     <output id=\"result-89621011-e9d9-49cf-8f63-d30b260109a8\">\n",
              "      Upload widget is only available when the cell has been executed in the\n",
              "      current browser session. Please rerun this cell to enable.\n",
              "      </output>\n",
              "      <script src=\"/nbextensions/google.colab/files.js\"></script> "
            ],
            "text/plain": [
              "<IPython.core.display.HTML object>"
            ]
          },
          "metadata": {
            "tags": []
          }
        },
        {
          "output_type": "stream",
          "text": [
            "Saving train.csv to train.csv\n"
          ],
          "name": "stdout"
        }
      ]
    },
    {
      "cell_type": "code",
      "metadata": {
        "id": "drDcq0kiDhlP",
        "colab_type": "code",
        "colab": {}
      },
      "source": [
        "df = pd.read_csv(r\"train.csv\", index_col=0)"
      ],
      "execution_count": 0,
      "outputs": []
    },
    {
      "cell_type": "code",
      "metadata": {
        "id": "TVqlLK9RD1NL",
        "colab_type": "code",
        "colab": {}
      },
      "source": [
        "X, y = df.drop(['Revenue'], axis=1), df['Revenue']\n",
        "y = y.apply(lambda x: 1 if x is True else 0)\n",
        "\n",
        "# Defining the steps in the categorical pipeline\n",
        "categorical_pipeline = Pipeline(steps=[('cat_selector', CategoricalSelector()),\n",
        "                                        #('cat_transformer', CategoricalTransformer()),\n",
        "                                        ('one_hot_encoder', OneHotEncoder(sparse=False, drop='first',\n",
        "                                                                          handle_unknown='error'))])\n",
        "\n",
        "# Defining the steps in the numerical pipeline\n",
        "numerical_pipeline = Pipeline(steps=[('num_selector', NumericalSelector()),\n",
        "                                      ('imputer', SimpleImputer(strategy='median')),\n",
        "                                      # ('lrfe', LRFEPipeline()),\n",
        "                                      ('std_scaler', StandardScaler())])\n",
        "\n",
        "# Combining numerical and categorical piepline into one full big pipeline horizontally\n",
        "# using FeatureUnion\n",
        "prep_pipeline = FeatureUnion(transformer_list=[('categorical_pipeline', categorical_pipeline),\n",
        "                                                ('numerical_pipeline', numerical_pipeline)])"
      ],
      "execution_count": 0,
      "outputs": []
    },
    {
      "cell_type": "code",
      "metadata": {
        "id": "_g_oW0hUEEli",
        "colab_type": "code",
        "colab": {
          "base_uri": "https://localhost:8080/",
          "height": 35
        },
        "outputId": "94bf43f2-650b-469e-8029-689b1672dc5d"
      },
      "source": [
        "features = prep_pipeline.fit_transform(X)\n",
        "labels = y\n",
        "print(features.shape, labels.shape)"
      ],
      "execution_count": 14,
      "outputs": [
        {
          "output_type": "stream",
          "text": [
            "(10480, 72) (10480,)\n"
          ],
          "name": "stdout"
        }
      ]
    },
    {
      "cell_type": "code",
      "metadata": {
        "id": "05hbk3LnEmNs",
        "colab_type": "code",
        "colab": {
          "base_uri": "https://localhost:8080/",
          "height": 35
        },
        "outputId": "86a36347-1ab7-4055-ce6e-f9709a68717c"
      },
      "source": [
        "from tensorflow.keras.models import Sequential\n",
        "from tensorflow.keras.layers import Dense, Dropout\n",
        "from keras import regularizers"
      ],
      "execution_count": 9,
      "outputs": [
        {
          "output_type": "stream",
          "text": [
            "Using TensorFlow backend.\n"
          ],
          "name": "stderr"
        }
      ]
    },
    {
      "cell_type": "code",
      "metadata": {
        "id": "HagqOHhHEoVH",
        "colab_type": "code",
        "colab": {
          "base_uri": "https://localhost:8080/",
          "height": 1000
        },
        "outputId": "5877dfc6-a12d-4281-bbd8-4c05d11b0d65"
      },
      "source": [
        "model = Sequential()\n",
        "\n",
        "model.add(Dense(200, activation='relu', input_shape=(72,), kernel_regularizer=regularizers.l2(0.01)))\n",
        "model.add(Dropout(0.2))\n",
        "model.add(Dense(175, activation='relu', kernel_regularizer=regularizers.l2(0.01)))\n",
        "model.add(Dropout(0.1))\n",
        "model.add(Dense(1, activation='sigmoid'))\n",
        "\n",
        "opt = keras.optimizers.Adam(lr=10e-5)\n",
        "\n",
        "model.compile(optimizer=opt,\n",
        "             loss='binary_crossentropy',\n",
        "             metrics=['accuracy'])\n",
        "\n",
        "h = model.fit(features, labels, epochs=200, validation_split=0.3)\n",
        "\n",
        "plt.plot(h.history['val_acc'], label='Validation Accuracy')\n",
        "plt.plot(h.history['acc'], label='Training Accuracy')\n",
        "plt.legend()"
      ],
      "execution_count": 18,
      "outputs": [
        {
          "output_type": "stream",
          "text": [
            "Train on 7335 samples, validate on 3145 samples\n",
            "Epoch 1/200\n",
            "7335/7335 [==============================] - 1s 148us/sample - loss: 2.9044 - acc: 0.8368 - val_loss: 2.3427 - val_acc: 0.8665\n",
            "Epoch 2/200\n",
            "7335/7335 [==============================] - 1s 116us/sample - loss: 1.9813 - acc: 0.8686 - val_loss: 1.6269 - val_acc: 0.8804\n",
            "Epoch 3/200\n",
            "7335/7335 [==============================] - 1s 112us/sample - loss: 1.3989 - acc: 0.8774 - val_loss: 1.1584 - val_acc: 0.8871\n",
            "Epoch 4/200\n",
            "7335/7335 [==============================] - 1s 117us/sample - loss: 1.0165 - acc: 0.8828 - val_loss: 0.8551 - val_acc: 0.8893\n",
            "Epoch 5/200\n",
            "7335/7335 [==============================] - 1s 115us/sample - loss: 0.7695 - acc: 0.8848 - val_loss: 0.6576 - val_acc: 0.8909\n",
            "Epoch 6/200\n",
            "7335/7335 [==============================] - 1s 115us/sample - loss: 0.6104 - acc: 0.8886 - val_loss: 0.5333 - val_acc: 0.8913\n",
            "Epoch 7/200\n",
            "7335/7335 [==============================] - 1s 118us/sample - loss: 0.5083 - acc: 0.8881 - val_loss: 0.4526 - val_acc: 0.8941\n",
            "Epoch 8/200\n",
            "7335/7335 [==============================] - 1s 116us/sample - loss: 0.4442 - acc: 0.8898 - val_loss: 0.4026 - val_acc: 0.8938\n",
            "Epoch 9/200\n",
            "7335/7335 [==============================] - 1s 111us/sample - loss: 0.4022 - acc: 0.8909 - val_loss: 0.3691 - val_acc: 0.8948\n",
            "Epoch 10/200\n",
            "7335/7335 [==============================] - 1s 118us/sample - loss: 0.3735 - acc: 0.8916 - val_loss: 0.3471 - val_acc: 0.8951\n",
            "Epoch 11/200\n",
            "7335/7335 [==============================] - 1s 115us/sample - loss: 0.3558 - acc: 0.8904 - val_loss: 0.3341 - val_acc: 0.8938\n",
            "Epoch 12/200\n",
            "7335/7335 [==============================] - 1s 117us/sample - loss: 0.3429 - acc: 0.8916 - val_loss: 0.3214 - val_acc: 0.8941\n",
            "Epoch 13/200\n",
            "7335/7335 [==============================] - 1s 118us/sample - loss: 0.3329 - acc: 0.8923 - val_loss: 0.3144 - val_acc: 0.8935\n",
            "Epoch 14/200\n",
            "7335/7335 [==============================] - 1s 118us/sample - loss: 0.3269 - acc: 0.8927 - val_loss: 0.3080 - val_acc: 0.8944\n",
            "Epoch 15/200\n",
            "7335/7335 [==============================] - 1s 120us/sample - loss: 0.3209 - acc: 0.8911 - val_loss: 0.3032 - val_acc: 0.8951\n",
            "Epoch 16/200\n",
            "7335/7335 [==============================] - 1s 119us/sample - loss: 0.3174 - acc: 0.8928 - val_loss: 0.3003 - val_acc: 0.8941\n",
            "Epoch 17/200\n",
            "7335/7335 [==============================] - 1s 111us/sample - loss: 0.3133 - acc: 0.8916 - val_loss: 0.2970 - val_acc: 0.8944\n",
            "Epoch 18/200\n",
            "7335/7335 [==============================] - 1s 113us/sample - loss: 0.3101 - acc: 0.8934 - val_loss: 0.2937 - val_acc: 0.8948\n",
            "Epoch 19/200\n",
            "7335/7335 [==============================] - 1s 118us/sample - loss: 0.3079 - acc: 0.8941 - val_loss: 0.2921 - val_acc: 0.8951\n",
            "Epoch 20/200\n",
            "7335/7335 [==============================] - 1s 117us/sample - loss: 0.3061 - acc: 0.8937 - val_loss: 0.2898 - val_acc: 0.8944\n",
            "Epoch 21/200\n",
            "7335/7335 [==============================] - 1s 113us/sample - loss: 0.3040 - acc: 0.8930 - val_loss: 0.2881 - val_acc: 0.8941\n",
            "Epoch 22/200\n",
            "7335/7335 [==============================] - 1s 115us/sample - loss: 0.3018 - acc: 0.8938 - val_loss: 0.2868 - val_acc: 0.8948\n",
            "Epoch 23/200\n",
            "7335/7335 [==============================] - 1s 118us/sample - loss: 0.3005 - acc: 0.8930 - val_loss: 0.2856 - val_acc: 0.8954\n",
            "Epoch 24/200\n",
            "7335/7335 [==============================] - 1s 116us/sample - loss: 0.2991 - acc: 0.8926 - val_loss: 0.2843 - val_acc: 0.8948\n",
            "Epoch 25/200\n",
            "7335/7335 [==============================] - 1s 119us/sample - loss: 0.2976 - acc: 0.8930 - val_loss: 0.2843 - val_acc: 0.8954\n",
            "Epoch 26/200\n",
            "7335/7335 [==============================] - 1s 113us/sample - loss: 0.2979 - acc: 0.8928 - val_loss: 0.2820 - val_acc: 0.8951\n",
            "Epoch 27/200\n",
            "7335/7335 [==============================] - 1s 114us/sample - loss: 0.2961 - acc: 0.8934 - val_loss: 0.2823 - val_acc: 0.8967\n",
            "Epoch 28/200\n",
            "7335/7335 [==============================] - 1s 115us/sample - loss: 0.2949 - acc: 0.8946 - val_loss: 0.2804 - val_acc: 0.8960\n",
            "Epoch 29/200\n",
            "7335/7335 [==============================] - 1s 117us/sample - loss: 0.2945 - acc: 0.8941 - val_loss: 0.2797 - val_acc: 0.8951\n",
            "Epoch 30/200\n",
            "7335/7335 [==============================] - 1s 116us/sample - loss: 0.2928 - acc: 0.8956 - val_loss: 0.2787 - val_acc: 0.8944\n",
            "Epoch 31/200\n",
            "7335/7335 [==============================] - 1s 114us/sample - loss: 0.2924 - acc: 0.8938 - val_loss: 0.2789 - val_acc: 0.8954\n",
            "Epoch 32/200\n",
            "7335/7335 [==============================] - 1s 123us/sample - loss: 0.2915 - acc: 0.8942 - val_loss: 0.2770 - val_acc: 0.8948\n",
            "Epoch 33/200\n",
            "7335/7335 [==============================] - 1s 115us/sample - loss: 0.2899 - acc: 0.8943 - val_loss: 0.2766 - val_acc: 0.8957\n",
            "Epoch 34/200\n",
            "7335/7335 [==============================] - 1s 113us/sample - loss: 0.2899 - acc: 0.8937 - val_loss: 0.2760 - val_acc: 0.8951\n",
            "Epoch 35/200\n",
            "7335/7335 [==============================] - 1s 114us/sample - loss: 0.2903 - acc: 0.8941 - val_loss: 0.2753 - val_acc: 0.8944\n",
            "Epoch 36/200\n",
            "7335/7335 [==============================] - 1s 119us/sample - loss: 0.2879 - acc: 0.8938 - val_loss: 0.2746 - val_acc: 0.8954\n",
            "Epoch 37/200\n",
            "7335/7335 [==============================] - 1s 113us/sample - loss: 0.2872 - acc: 0.8942 - val_loss: 0.2740 - val_acc: 0.8941\n",
            "Epoch 38/200\n",
            "7335/7335 [==============================] - 1s 116us/sample - loss: 0.2876 - acc: 0.8945 - val_loss: 0.2745 - val_acc: 0.8967\n",
            "Epoch 39/200\n",
            "7335/7335 [==============================] - 1s 117us/sample - loss: 0.2860 - acc: 0.8953 - val_loss: 0.2737 - val_acc: 0.8960\n",
            "Epoch 40/200\n",
            "7335/7335 [==============================] - 1s 115us/sample - loss: 0.2853 - acc: 0.8934 - val_loss: 0.2732 - val_acc: 0.8963\n",
            "Epoch 41/200\n",
            "7335/7335 [==============================] - 1s 115us/sample - loss: 0.2861 - acc: 0.8942 - val_loss: 0.2731 - val_acc: 0.8957\n",
            "Epoch 42/200\n",
            "7335/7335 [==============================] - 1s 114us/sample - loss: 0.2855 - acc: 0.8958 - val_loss: 0.2719 - val_acc: 0.8957\n",
            "Epoch 43/200\n",
            "7335/7335 [==============================] - 1s 113us/sample - loss: 0.2848 - acc: 0.8945 - val_loss: 0.2717 - val_acc: 0.8963\n",
            "Epoch 44/200\n",
            "7335/7335 [==============================] - 1s 112us/sample - loss: 0.2845 - acc: 0.8930 - val_loss: 0.2708 - val_acc: 0.8963\n",
            "Epoch 45/200\n",
            "7335/7335 [==============================] - 1s 118us/sample - loss: 0.2840 - acc: 0.8950 - val_loss: 0.2706 - val_acc: 0.8963\n",
            "Epoch 46/200\n",
            "7335/7335 [==============================] - 1s 117us/sample - loss: 0.2827 - acc: 0.8950 - val_loss: 0.2709 - val_acc: 0.8970\n",
            "Epoch 47/200\n",
            "7335/7335 [==============================] - 1s 116us/sample - loss: 0.2827 - acc: 0.8952 - val_loss: 0.2729 - val_acc: 0.8979\n",
            "Epoch 48/200\n",
            "7335/7335 [==============================] - 1s 112us/sample - loss: 0.2820 - acc: 0.8958 - val_loss: 0.2741 - val_acc: 0.8983\n",
            "Epoch 49/200\n",
            "7335/7335 [==============================] - 1s 116us/sample - loss: 0.2833 - acc: 0.8965 - val_loss: 0.2696 - val_acc: 0.8970\n",
            "Epoch 50/200\n",
            "7335/7335 [==============================] - 1s 115us/sample - loss: 0.2818 - acc: 0.8950 - val_loss: 0.2689 - val_acc: 0.8963\n",
            "Epoch 51/200\n",
            "7335/7335 [==============================] - 1s 112us/sample - loss: 0.2815 - acc: 0.8953 - val_loss: 0.2690 - val_acc: 0.8973\n",
            "Epoch 52/200\n",
            "7335/7335 [==============================] - 1s 119us/sample - loss: 0.2803 - acc: 0.8943 - val_loss: 0.2701 - val_acc: 0.8967\n",
            "Epoch 53/200\n",
            "7335/7335 [==============================] - 1s 120us/sample - loss: 0.2796 - acc: 0.8949 - val_loss: 0.2687 - val_acc: 0.8967\n",
            "Epoch 54/200\n",
            "7335/7335 [==============================] - 1s 118us/sample - loss: 0.2798 - acc: 0.8956 - val_loss: 0.2677 - val_acc: 0.8960\n",
            "Epoch 55/200\n",
            "7335/7335 [==============================] - 1s 113us/sample - loss: 0.2799 - acc: 0.8949 - val_loss: 0.2676 - val_acc: 0.8967\n",
            "Epoch 56/200\n",
            "7335/7335 [==============================] - 1s 119us/sample - loss: 0.2794 - acc: 0.8958 - val_loss: 0.2672 - val_acc: 0.8967\n",
            "Epoch 57/200\n",
            "7335/7335 [==============================] - 1s 120us/sample - loss: 0.2793 - acc: 0.8957 - val_loss: 0.2667 - val_acc: 0.8973\n",
            "Epoch 58/200\n",
            "7335/7335 [==============================] - 1s 112us/sample - loss: 0.2791 - acc: 0.8956 - val_loss: 0.2663 - val_acc: 0.8963\n",
            "Epoch 59/200\n",
            "7335/7335 [==============================] - 1s 114us/sample - loss: 0.2792 - acc: 0.8958 - val_loss: 0.2665 - val_acc: 0.8983\n",
            "Epoch 60/200\n",
            "7335/7335 [==============================] - 1s 116us/sample - loss: 0.2778 - acc: 0.8952 - val_loss: 0.2669 - val_acc: 0.8970\n",
            "Epoch 61/200\n",
            "7335/7335 [==============================] - 1s 118us/sample - loss: 0.2789 - acc: 0.8953 - val_loss: 0.2667 - val_acc: 0.8995\n",
            "Epoch 62/200\n",
            "7335/7335 [==============================] - 1s 119us/sample - loss: 0.2782 - acc: 0.8973 - val_loss: 0.2674 - val_acc: 0.8983\n",
            "Epoch 63/200\n",
            "7335/7335 [==============================] - 1s 115us/sample - loss: 0.2778 - acc: 0.8961 - val_loss: 0.2657 - val_acc: 0.8967\n",
            "Epoch 64/200\n",
            "7335/7335 [==============================] - 1s 114us/sample - loss: 0.2767 - acc: 0.8961 - val_loss: 0.2652 - val_acc: 0.8976\n",
            "Epoch 65/200\n",
            "7335/7335 [==============================] - 1s 118us/sample - loss: 0.2774 - acc: 0.8956 - val_loss: 0.2647 - val_acc: 0.8995\n",
            "Epoch 66/200\n",
            "7335/7335 [==============================] - 1s 113us/sample - loss: 0.2777 - acc: 0.8971 - val_loss: 0.2648 - val_acc: 0.8983\n",
            "Epoch 67/200\n",
            "7335/7335 [==============================] - 1s 117us/sample - loss: 0.2769 - acc: 0.8969 - val_loss: 0.2652 - val_acc: 0.9002\n",
            "Epoch 68/200\n",
            "7335/7335 [==============================] - 1s 115us/sample - loss: 0.2757 - acc: 0.8960 - val_loss: 0.2641 - val_acc: 0.8995\n",
            "Epoch 69/200\n",
            "7335/7335 [==============================] - 1s 118us/sample - loss: 0.2763 - acc: 0.8972 - val_loss: 0.2643 - val_acc: 0.8995\n",
            "Epoch 70/200\n",
            "7335/7335 [==============================] - 1s 110us/sample - loss: 0.2765 - acc: 0.8982 - val_loss: 0.2640 - val_acc: 0.8998\n",
            "Epoch 71/200\n",
            "7335/7335 [==============================] - 1s 111us/sample - loss: 0.2758 - acc: 0.8967 - val_loss: 0.2654 - val_acc: 0.8998\n",
            "Epoch 72/200\n",
            "7335/7335 [==============================] - 1s 118us/sample - loss: 0.2753 - acc: 0.8953 - val_loss: 0.2641 - val_acc: 0.9002\n",
            "Epoch 73/200\n",
            "7335/7335 [==============================] - 1s 119us/sample - loss: 0.2759 - acc: 0.8978 - val_loss: 0.2643 - val_acc: 0.9005\n",
            "Epoch 74/200\n",
            "7335/7335 [==============================] - 1s 119us/sample - loss: 0.2748 - acc: 0.8976 - val_loss: 0.2638 - val_acc: 0.8989\n",
            "Epoch 75/200\n",
            "7335/7335 [==============================] - 1s 121us/sample - loss: 0.2751 - acc: 0.8967 - val_loss: 0.2633 - val_acc: 0.8989\n",
            "Epoch 76/200\n",
            "7335/7335 [==============================] - 1s 120us/sample - loss: 0.2753 - acc: 0.8972 - val_loss: 0.2627 - val_acc: 0.9002\n",
            "Epoch 77/200\n",
            "7335/7335 [==============================] - 1s 117us/sample - loss: 0.2752 - acc: 0.8964 - val_loss: 0.2629 - val_acc: 0.8979\n",
            "Epoch 78/200\n",
            "7335/7335 [==============================] - 1s 119us/sample - loss: 0.2745 - acc: 0.8975 - val_loss: 0.2627 - val_acc: 0.9005\n",
            "Epoch 79/200\n",
            "7335/7335 [==============================] - 1s 120us/sample - loss: 0.2735 - acc: 0.8967 - val_loss: 0.2625 - val_acc: 0.9027\n",
            "Epoch 80/200\n",
            "7335/7335 [==============================] - 1s 112us/sample - loss: 0.2746 - acc: 0.8982 - val_loss: 0.2633 - val_acc: 0.9027\n",
            "Epoch 81/200\n",
            "7335/7335 [==============================] - 1s 114us/sample - loss: 0.2743 - acc: 0.8969 - val_loss: 0.2621 - val_acc: 0.9011\n",
            "Epoch 82/200\n",
            "7335/7335 [==============================] - 1s 118us/sample - loss: 0.2718 - acc: 0.8965 - val_loss: 0.2621 - val_acc: 0.8976\n",
            "Epoch 83/200\n",
            "7335/7335 [==============================] - 1s 117us/sample - loss: 0.2728 - acc: 0.8978 - val_loss: 0.2615 - val_acc: 0.9014\n",
            "Epoch 84/200\n",
            "7335/7335 [==============================] - 1s 111us/sample - loss: 0.2728 - acc: 0.8976 - val_loss: 0.2617 - val_acc: 0.9030\n",
            "Epoch 85/200\n",
            "7335/7335 [==============================] - 1s 115us/sample - loss: 0.2732 - acc: 0.8953 - val_loss: 0.2624 - val_acc: 0.8989\n",
            "Epoch 86/200\n",
            "7335/7335 [==============================] - 1s 117us/sample - loss: 0.2728 - acc: 0.8982 - val_loss: 0.2621 - val_acc: 0.9005\n",
            "Epoch 87/200\n",
            "7335/7335 [==============================] - 1s 116us/sample - loss: 0.2717 - acc: 0.8971 - val_loss: 0.2614 - val_acc: 0.9030\n",
            "Epoch 88/200\n",
            "7335/7335 [==============================] - 1s 115us/sample - loss: 0.2719 - acc: 0.8971 - val_loss: 0.2616 - val_acc: 0.9030\n",
            "Epoch 89/200\n",
            "7335/7335 [==============================] - 1s 112us/sample - loss: 0.2718 - acc: 0.8982 - val_loss: 0.2615 - val_acc: 0.8989\n",
            "Epoch 90/200\n",
            "7335/7335 [==============================] - 1s 121us/sample - loss: 0.2713 - acc: 0.8972 - val_loss: 0.2620 - val_acc: 0.9033\n",
            "Epoch 91/200\n",
            "7335/7335 [==============================] - 1s 113us/sample - loss: 0.2725 - acc: 0.8980 - val_loss: 0.2614 - val_acc: 0.8989\n",
            "Epoch 92/200\n",
            "7335/7335 [==============================] - 1s 117us/sample - loss: 0.2721 - acc: 0.8972 - val_loss: 0.2607 - val_acc: 0.9008\n",
            "Epoch 93/200\n",
            "7335/7335 [==============================] - 1s 111us/sample - loss: 0.2710 - acc: 0.8991 - val_loss: 0.2632 - val_acc: 0.9033\n",
            "Epoch 94/200\n",
            "7335/7335 [==============================] - 1s 117us/sample - loss: 0.2731 - acc: 0.8983 - val_loss: 0.2604 - val_acc: 0.8998\n",
            "Epoch 95/200\n",
            "7335/7335 [==============================] - 1s 118us/sample - loss: 0.2707 - acc: 0.8979 - val_loss: 0.2616 - val_acc: 0.9033\n",
            "Epoch 96/200\n",
            "7335/7335 [==============================] - 1s 117us/sample - loss: 0.2706 - acc: 0.8993 - val_loss: 0.2608 - val_acc: 0.9014\n",
            "Epoch 97/200\n",
            "7335/7335 [==============================] - 1s 119us/sample - loss: 0.2713 - acc: 0.8987 - val_loss: 0.2622 - val_acc: 0.9043\n",
            "Epoch 98/200\n",
            "7335/7335 [==============================] - 1s 117us/sample - loss: 0.2702 - acc: 0.8976 - val_loss: 0.2621 - val_acc: 0.9040\n",
            "Epoch 99/200\n",
            "7335/7335 [==============================] - 1s 118us/sample - loss: 0.2704 - acc: 0.8988 - val_loss: 0.2613 - val_acc: 0.9046\n",
            "Epoch 100/200\n",
            "7335/7335 [==============================] - 1s 115us/sample - loss: 0.2694 - acc: 0.8988 - val_loss: 0.2605 - val_acc: 0.9030\n",
            "Epoch 101/200\n",
            "7335/7335 [==============================] - 1s 112us/sample - loss: 0.2705 - acc: 0.8984 - val_loss: 0.2603 - val_acc: 0.9024\n",
            "Epoch 102/200\n",
            "7335/7335 [==============================] - 1s 117us/sample - loss: 0.2686 - acc: 0.8997 - val_loss: 0.2604 - val_acc: 0.8995\n",
            "Epoch 103/200\n",
            "7335/7335 [==============================] - 1s 117us/sample - loss: 0.2697 - acc: 0.8973 - val_loss: 0.2601 - val_acc: 0.9040\n",
            "Epoch 104/200\n",
            "7335/7335 [==============================] - 1s 116us/sample - loss: 0.2693 - acc: 0.8978 - val_loss: 0.2602 - val_acc: 0.9033\n",
            "Epoch 105/200\n",
            "7335/7335 [==============================] - 1s 110us/sample - loss: 0.2698 - acc: 0.8972 - val_loss: 0.2622 - val_acc: 0.9046\n",
            "Epoch 106/200\n",
            "7335/7335 [==============================] - 1s 120us/sample - loss: 0.2687 - acc: 0.8969 - val_loss: 0.2602 - val_acc: 0.9030\n",
            "Epoch 107/200\n",
            "7335/7335 [==============================] - 1s 125us/sample - loss: 0.2680 - acc: 0.8983 - val_loss: 0.2598 - val_acc: 0.9037\n",
            "Epoch 108/200\n",
            "7335/7335 [==============================] - 1s 114us/sample - loss: 0.2688 - acc: 0.8958 - val_loss: 0.2596 - val_acc: 0.9040\n",
            "Epoch 109/200\n",
            "7335/7335 [==============================] - 1s 120us/sample - loss: 0.2687 - acc: 0.8978 - val_loss: 0.2592 - val_acc: 0.9021\n",
            "Epoch 110/200\n",
            "7335/7335 [==============================] - 1s 118us/sample - loss: 0.2695 - acc: 0.8994 - val_loss: 0.2608 - val_acc: 0.9040\n",
            "Epoch 111/200\n",
            "7335/7335 [==============================] - 1s 118us/sample - loss: 0.2694 - acc: 0.8991 - val_loss: 0.2601 - val_acc: 0.9024\n",
            "Epoch 112/200\n",
            "7335/7335 [==============================] - 1s 119us/sample - loss: 0.2676 - acc: 0.8995 - val_loss: 0.2593 - val_acc: 0.9027\n",
            "Epoch 113/200\n",
            "7335/7335 [==============================] - 1s 117us/sample - loss: 0.2683 - acc: 0.8987 - val_loss: 0.2591 - val_acc: 0.9037\n",
            "Epoch 114/200\n",
            "7335/7335 [==============================] - 1s 116us/sample - loss: 0.2679 - acc: 0.8991 - val_loss: 0.2594 - val_acc: 0.9027\n",
            "Epoch 115/200\n",
            "7335/7335 [==============================] - 1s 116us/sample - loss: 0.2681 - acc: 0.9006 - val_loss: 0.2598 - val_acc: 0.9040\n",
            "Epoch 116/200\n",
            "7335/7335 [==============================] - 1s 114us/sample - loss: 0.2690 - acc: 0.8994 - val_loss: 0.2594 - val_acc: 0.9021\n",
            "Epoch 117/200\n",
            "7335/7335 [==============================] - 1s 116us/sample - loss: 0.2676 - acc: 0.8988 - val_loss: 0.2588 - val_acc: 0.9030\n",
            "Epoch 118/200\n",
            "7335/7335 [==============================] - 1s 114us/sample - loss: 0.2675 - acc: 0.9006 - val_loss: 0.2588 - val_acc: 0.9024\n",
            "Epoch 119/200\n",
            "7335/7335 [==============================] - 1s 112us/sample - loss: 0.2673 - acc: 0.8982 - val_loss: 0.2595 - val_acc: 0.9033\n",
            "Epoch 120/200\n",
            "7335/7335 [==============================] - 1s 114us/sample - loss: 0.2670 - acc: 0.8999 - val_loss: 0.2584 - val_acc: 0.9033\n",
            "Epoch 121/200\n",
            "7335/7335 [==============================] - 1s 118us/sample - loss: 0.2673 - acc: 0.8997 - val_loss: 0.2584 - val_acc: 0.9040\n",
            "Epoch 122/200\n",
            "7335/7335 [==============================] - 1s 118us/sample - loss: 0.2666 - acc: 0.9002 - val_loss: 0.2590 - val_acc: 0.9014\n",
            "Epoch 123/200\n",
            "7335/7335 [==============================] - 1s 117us/sample - loss: 0.2670 - acc: 0.9002 - val_loss: 0.2608 - val_acc: 0.9033\n",
            "Epoch 124/200\n",
            "7335/7335 [==============================] - 1s 110us/sample - loss: 0.2658 - acc: 0.8976 - val_loss: 0.2584 - val_acc: 0.9037\n",
            "Epoch 125/200\n",
            "7335/7335 [==============================] - 1s 118us/sample - loss: 0.2664 - acc: 0.8994 - val_loss: 0.2602 - val_acc: 0.9040\n",
            "Epoch 126/200\n",
            "7335/7335 [==============================] - 1s 120us/sample - loss: 0.2668 - acc: 0.8986 - val_loss: 0.2620 - val_acc: 0.9030\n",
            "Epoch 127/200\n",
            "7335/7335 [==============================] - 1s 116us/sample - loss: 0.2657 - acc: 0.9012 - val_loss: 0.2586 - val_acc: 0.9021\n",
            "Epoch 128/200\n",
            "7335/7335 [==============================] - 1s 118us/sample - loss: 0.2658 - acc: 0.8990 - val_loss: 0.2581 - val_acc: 0.9033\n",
            "Epoch 129/200\n",
            "7335/7335 [==============================] - 1s 121us/sample - loss: 0.2660 - acc: 0.8994 - val_loss: 0.2580 - val_acc: 0.9052\n",
            "Epoch 130/200\n",
            "7335/7335 [==============================] - 1s 120us/sample - loss: 0.2662 - acc: 0.8999 - val_loss: 0.2605 - val_acc: 0.9027\n",
            "Epoch 131/200\n",
            "7335/7335 [==============================] - 1s 121us/sample - loss: 0.2657 - acc: 0.8993 - val_loss: 0.2589 - val_acc: 0.9046\n",
            "Epoch 132/200\n",
            "7335/7335 [==============================] - 1s 119us/sample - loss: 0.2660 - acc: 0.8993 - val_loss: 0.2593 - val_acc: 0.9037\n",
            "Epoch 133/200\n",
            "7335/7335 [==============================] - 1s 118us/sample - loss: 0.2649 - acc: 0.9010 - val_loss: 0.2589 - val_acc: 0.9033\n",
            "Epoch 134/200\n",
            "7335/7335 [==============================] - 1s 118us/sample - loss: 0.2663 - acc: 0.8993 - val_loss: 0.2589 - val_acc: 0.9043\n",
            "Epoch 135/200\n",
            "7335/7335 [==============================] - 1s 118us/sample - loss: 0.2641 - acc: 0.9002 - val_loss: 0.2577 - val_acc: 0.9046\n",
            "Epoch 136/200\n",
            "7335/7335 [==============================] - 1s 118us/sample - loss: 0.2652 - acc: 0.9006 - val_loss: 0.2590 - val_acc: 0.9040\n",
            "Epoch 137/200\n",
            "7335/7335 [==============================] - 1s 116us/sample - loss: 0.2655 - acc: 0.8999 - val_loss: 0.2588 - val_acc: 0.9037\n",
            "Epoch 138/200\n",
            "7335/7335 [==============================] - 1s 114us/sample - loss: 0.2657 - acc: 0.8997 - val_loss: 0.2573 - val_acc: 0.9043\n",
            "Epoch 139/200\n",
            "7335/7335 [==============================] - 1s 117us/sample - loss: 0.2646 - acc: 0.8993 - val_loss: 0.2583 - val_acc: 0.9043\n",
            "Epoch 140/200\n",
            "7335/7335 [==============================] - 1s 115us/sample - loss: 0.2653 - acc: 0.8991 - val_loss: 0.2580 - val_acc: 0.9033\n",
            "Epoch 141/200\n",
            "7335/7335 [==============================] - 1s 113us/sample - loss: 0.2638 - acc: 0.9010 - val_loss: 0.2575 - val_acc: 0.9043\n",
            "Epoch 142/200\n",
            "7335/7335 [==============================] - 1s 117us/sample - loss: 0.2640 - acc: 0.9012 - val_loss: 0.2585 - val_acc: 0.9040\n",
            "Epoch 143/200\n",
            "7335/7335 [==============================] - 1s 117us/sample - loss: 0.2648 - acc: 0.9010 - val_loss: 0.2577 - val_acc: 0.9043\n",
            "Epoch 144/200\n",
            "7335/7335 [==============================] - 1s 115us/sample - loss: 0.2642 - acc: 0.9007 - val_loss: 0.2574 - val_acc: 0.9037\n",
            "Epoch 145/200\n",
            "7335/7335 [==============================] - 1s 113us/sample - loss: 0.2622 - acc: 0.9021 - val_loss: 0.2609 - val_acc: 0.9017\n",
            "Epoch 146/200\n",
            "7335/7335 [==============================] - 1s 112us/sample - loss: 0.2643 - acc: 0.9014 - val_loss: 0.2592 - val_acc: 0.9027\n",
            "Epoch 147/200\n",
            "7335/7335 [==============================] - 1s 116us/sample - loss: 0.2655 - acc: 0.9013 - val_loss: 0.2584 - val_acc: 0.9046\n",
            "Epoch 148/200\n",
            "7335/7335 [==============================] - 1s 120us/sample - loss: 0.2643 - acc: 0.9022 - val_loss: 0.2580 - val_acc: 0.9043\n",
            "Epoch 149/200\n",
            "7335/7335 [==============================] - 1s 119us/sample - loss: 0.2638 - acc: 0.9009 - val_loss: 0.2577 - val_acc: 0.9043\n",
            "Epoch 150/200\n",
            "7335/7335 [==============================] - 1s 116us/sample - loss: 0.2640 - acc: 0.9005 - val_loss: 0.2572 - val_acc: 0.9037\n",
            "Epoch 151/200\n",
            "7335/7335 [==============================] - 1s 121us/sample - loss: 0.2630 - acc: 0.9025 - val_loss: 0.2580 - val_acc: 0.9037\n",
            "Epoch 152/200\n",
            "7335/7335 [==============================] - 1s 117us/sample - loss: 0.2633 - acc: 0.9012 - val_loss: 0.2567 - val_acc: 0.9043\n",
            "Epoch 153/200\n",
            "7335/7335 [==============================] - 1s 118us/sample - loss: 0.2639 - acc: 0.9012 - val_loss: 0.2569 - val_acc: 0.9033\n",
            "Epoch 154/200\n",
            "7335/7335 [==============================] - 1s 117us/sample - loss: 0.2625 - acc: 0.9007 - val_loss: 0.2564 - val_acc: 0.9033\n",
            "Epoch 155/200\n",
            "7335/7335 [==============================] - 1s 116us/sample - loss: 0.2617 - acc: 0.9014 - val_loss: 0.2565 - val_acc: 0.9049\n",
            "Epoch 156/200\n",
            "7335/7335 [==============================] - 1s 116us/sample - loss: 0.2629 - acc: 0.9022 - val_loss: 0.2562 - val_acc: 0.9043\n",
            "Epoch 157/200\n",
            "7335/7335 [==============================] - 1s 114us/sample - loss: 0.2636 - acc: 0.9018 - val_loss: 0.2573 - val_acc: 0.9037\n",
            "Epoch 158/200\n",
            "7335/7335 [==============================] - 1s 115us/sample - loss: 0.2628 - acc: 0.9018 - val_loss: 0.2562 - val_acc: 0.9046\n",
            "Epoch 159/200\n",
            "7335/7335 [==============================] - 1s 117us/sample - loss: 0.2630 - acc: 0.9001 - val_loss: 0.2564 - val_acc: 0.9037\n",
            "Epoch 160/200\n",
            "7335/7335 [==============================] - 1s 113us/sample - loss: 0.2637 - acc: 0.9021 - val_loss: 0.2580 - val_acc: 0.9040\n",
            "Epoch 161/200\n",
            "7335/7335 [==============================] - 1s 112us/sample - loss: 0.2631 - acc: 0.9017 - val_loss: 0.2563 - val_acc: 0.9043\n",
            "Epoch 162/200\n",
            "7335/7335 [==============================] - 1s 116us/sample - loss: 0.2633 - acc: 0.9005 - val_loss: 0.2597 - val_acc: 0.9037\n",
            "Epoch 163/200\n",
            "7335/7335 [==============================] - 1s 117us/sample - loss: 0.2623 - acc: 0.9016 - val_loss: 0.2564 - val_acc: 0.9043\n",
            "Epoch 164/200\n",
            "7335/7335 [==============================] - 1s 117us/sample - loss: 0.2629 - acc: 0.9029 - val_loss: 0.2563 - val_acc: 0.9040\n",
            "Epoch 165/200\n",
            "7335/7335 [==============================] - 1s 118us/sample - loss: 0.2608 - acc: 0.9022 - val_loss: 0.2563 - val_acc: 0.9040\n",
            "Epoch 166/200\n",
            "7335/7335 [==============================] - 1s 118us/sample - loss: 0.2626 - acc: 0.9016 - val_loss: 0.2561 - val_acc: 0.9030\n",
            "Epoch 167/200\n",
            "7335/7335 [==============================] - 1s 116us/sample - loss: 0.2607 - acc: 0.9017 - val_loss: 0.2563 - val_acc: 0.9049\n",
            "Epoch 168/200\n",
            "7335/7335 [==============================] - 1s 115us/sample - loss: 0.2610 - acc: 0.9014 - val_loss: 0.2579 - val_acc: 0.9033\n",
            "Epoch 169/200\n",
            "7335/7335 [==============================] - 1s 116us/sample - loss: 0.2617 - acc: 0.9021 - val_loss: 0.2560 - val_acc: 0.9040\n",
            "Epoch 170/200\n",
            "7335/7335 [==============================] - 1s 117us/sample - loss: 0.2606 - acc: 0.9031 - val_loss: 0.2575 - val_acc: 0.9030\n",
            "Epoch 171/200\n",
            "7335/7335 [==============================] - 1s 114us/sample - loss: 0.2621 - acc: 0.9012 - val_loss: 0.2564 - val_acc: 0.9037\n",
            "Epoch 172/200\n",
            "7335/7335 [==============================] - 1s 116us/sample - loss: 0.2612 - acc: 0.9029 - val_loss: 0.2564 - val_acc: 0.9043\n",
            "Epoch 173/200\n",
            "7335/7335 [==============================] - 1s 117us/sample - loss: 0.2619 - acc: 0.9014 - val_loss: 0.2557 - val_acc: 0.9049\n",
            "Epoch 174/200\n",
            "7335/7335 [==============================] - 1s 117us/sample - loss: 0.2606 - acc: 0.9020 - val_loss: 0.2563 - val_acc: 0.9052\n",
            "Epoch 175/200\n",
            "7335/7335 [==============================] - 1s 119us/sample - loss: 0.2613 - acc: 0.8998 - val_loss: 0.2557 - val_acc: 0.9040\n",
            "Epoch 176/200\n",
            "7335/7335 [==============================] - 1s 120us/sample - loss: 0.2615 - acc: 0.9020 - val_loss: 0.2577 - val_acc: 0.9040\n",
            "Epoch 177/200\n",
            "7335/7335 [==============================] - 1s 115us/sample - loss: 0.2612 - acc: 0.9050 - val_loss: 0.2553 - val_acc: 0.9049\n",
            "Epoch 178/200\n",
            "7335/7335 [==============================] - 1s 119us/sample - loss: 0.2601 - acc: 0.9017 - val_loss: 0.2557 - val_acc: 0.9049\n",
            "Epoch 179/200\n",
            "7335/7335 [==============================] - 1s 117us/sample - loss: 0.2601 - acc: 0.9025 - val_loss: 0.2555 - val_acc: 0.9046\n",
            "Epoch 180/200\n",
            "7335/7335 [==============================] - 1s 117us/sample - loss: 0.2614 - acc: 0.9013 - val_loss: 0.2562 - val_acc: 0.9043\n",
            "Epoch 181/200\n",
            "7335/7335 [==============================] - 1s 116us/sample - loss: 0.2604 - acc: 0.9025 - val_loss: 0.2569 - val_acc: 0.9040\n",
            "Epoch 182/200\n",
            "7335/7335 [==============================] - 1s 114us/sample - loss: 0.2610 - acc: 0.9020 - val_loss: 0.2553 - val_acc: 0.9040\n",
            "Epoch 183/200\n",
            "7335/7335 [==============================] - 1s 119us/sample - loss: 0.2603 - acc: 0.9031 - val_loss: 0.2572 - val_acc: 0.9037\n",
            "Epoch 184/200\n",
            "7335/7335 [==============================] - 1s 122us/sample - loss: 0.2596 - acc: 0.9047 - val_loss: 0.2547 - val_acc: 0.9049\n",
            "Epoch 185/200\n",
            "7335/7335 [==============================] - 1s 115us/sample - loss: 0.2597 - acc: 0.9032 - val_loss: 0.2558 - val_acc: 0.9037\n",
            "Epoch 186/200\n",
            "7335/7335 [==============================] - 1s 112us/sample - loss: 0.2600 - acc: 0.9020 - val_loss: 0.2549 - val_acc: 0.9043\n",
            "Epoch 187/200\n",
            "7335/7335 [==============================] - 1s 119us/sample - loss: 0.2606 - acc: 0.9012 - val_loss: 0.2560 - val_acc: 0.9037\n",
            "Epoch 188/200\n",
            "7335/7335 [==============================] - 1s 114us/sample - loss: 0.2603 - acc: 0.9017 - val_loss: 0.2548 - val_acc: 0.9037\n",
            "Epoch 189/200\n",
            "7335/7335 [==============================] - 1s 114us/sample - loss: 0.2592 - acc: 0.9050 - val_loss: 0.2561 - val_acc: 0.9021\n",
            "Epoch 190/200\n",
            "7335/7335 [==============================] - 1s 113us/sample - loss: 0.2598 - acc: 0.9035 - val_loss: 0.2561 - val_acc: 0.9033\n",
            "Epoch 191/200\n",
            "7335/7335 [==============================] - 1s 114us/sample - loss: 0.2600 - acc: 0.9043 - val_loss: 0.2559 - val_acc: 0.9040\n",
            "Epoch 192/200\n",
            "7335/7335 [==============================] - 1s 115us/sample - loss: 0.2602 - acc: 0.9012 - val_loss: 0.2552 - val_acc: 0.9052\n",
            "Epoch 193/200\n",
            "7335/7335 [==============================] - 1s 114us/sample - loss: 0.2599 - acc: 0.9018 - val_loss: 0.2564 - val_acc: 0.9052\n",
            "Epoch 194/200\n",
            "7335/7335 [==============================] - 1s 118us/sample - loss: 0.2588 - acc: 0.9027 - val_loss: 0.2549 - val_acc: 0.9052\n",
            "Epoch 195/200\n",
            "7335/7335 [==============================] - 1s 115us/sample - loss: 0.2593 - acc: 0.9057 - val_loss: 0.2549 - val_acc: 0.9040\n",
            "Epoch 196/200\n",
            "7335/7335 [==============================] - 1s 110us/sample - loss: 0.2583 - acc: 0.9017 - val_loss: 0.2559 - val_acc: 0.9033\n",
            "Epoch 197/200\n",
            "7335/7335 [==============================] - 1s 114us/sample - loss: 0.2593 - acc: 0.9042 - val_loss: 0.2550 - val_acc: 0.9043\n",
            "Epoch 198/200\n",
            "7335/7335 [==============================] - 1s 125us/sample - loss: 0.2583 - acc: 0.9051 - val_loss: 0.2548 - val_acc: 0.9059\n",
            "Epoch 199/200\n",
            "7335/7335 [==============================] - 1s 126us/sample - loss: 0.2589 - acc: 0.9042 - val_loss: 0.2555 - val_acc: 0.9037\n",
            "Epoch 200/200\n",
            "7335/7335 [==============================] - 1s 128us/sample - loss: 0.2590 - acc: 0.9047 - val_loss: 0.2554 - val_acc: 0.9037\n"
          ],
          "name": "stdout"
        },
        {
          "output_type": "execute_result",
          "data": {
            "text/plain": [
              "<matplotlib.legend.Legend at 0x7fa2479f1748>"
            ]
          },
          "metadata": {
            "tags": []
          },
          "execution_count": 18
        },
        {
          "output_type": "display_data",
          "data": {
            "image/png": "[encoded data removed]",
            "text/plain": [
              "<Figure size 432x288 with 1 Axes>"
            ]
          },
          "metadata": {
            "tags": []
          }
        }
      ]
    },
    {
      "cell_type": "code",
      "metadata": {
        "id": "V572z_F3FKZg",
        "colab_type": "code",
        "colab": {
          "resources": {
            "http://localhost:8080/nbextensions/google.colab/files.js": {
              "data": "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",
              "ok": true,
              "headers": [
                [
                  "content-type",
                  "application/javascript"
                ]
              ],
              "status": 200,
              "status_text": ""
            }
          },
          "base_uri": "https://localhost:8080/",
          "height": 75
        },
        "outputId": "873fa083-a060-4f71-8a72-e2523beb0c97"
      },
      "source": [
        "from google.colab import files\n",
        "uploaded = files.upload()"
      ],
      "execution_count": 20,
      "outputs": [
        {
          "output_type": "display_data",
          "data": {
            "text/html": [
              "\n",
              "     <input type=\"file\" id=\"files-90af0e80-db8f-4a4a-a2a5-d0c4f27464cf\" name=\"files[]\" multiple disabled />\n",
              "     <output id=\"result-90af0e80-db8f-4a4a-a2a5-d0c4f27464cf\">\n",
              "      Upload widget is only available when the cell has been executed in the\n",
              "      current browser session. Please rerun this cell to enable.\n",
              "      </output>\n",
              "      <script src=\"/nbextensions/google.colab/files.js\"></script> "
            ],
            "text/plain": [
              "<IPython.core.display.HTML object>"
            ]
          },
          "metadata": {
            "tags": []
          }
        },
        {
          "output_type": "stream",
          "text": [
            "Saving test.csv to test.csv\n"
          ],
          "name": "stdout"
        }
      ]
    },
    {
      "cell_type": "code",
      "metadata": {
        "id": "7IcoretEF8w3",
        "colab_type": "code",
        "colab": {}
      },
      "source": [
        "X_test = pd.read_csv(r\"test.csv\", index_col=0)"
      ],
      "execution_count": 0,
      "outputs": []
    },
    {
      "cell_type": "code",
      "metadata": {
        "id": "kGDBlvybRva1",
        "colab_type": "code",
        "colab": {}
      },
      "source": [
        "X_test_transf = prep_pipeline.transform(X_test)"
      ],
      "execution_count": 0,
      "outputs": []
    },
    {
      "cell_type": "code",
      "metadata": {
        "id": "hgHDdHioRzdF",
        "colab_type": "code",
        "colab": {}
      },
      "source": [
        "y_pred = model.predict(X_test_transf).ravel()"
      ],
      "execution_count": 0,
      "outputs": []
    },
    {
      "cell_type": "code",
      "metadata": {
        "id": "Q5PfhWrvR0lz",
        "colab_type": "code",
        "colab": {}
      },
      "source": [
        "X_test.loc[:, 'Revenue'] = ['TRUE' if x>=0.5 else \"FALSE\" for x in y_pred]\n",
        "X_sub = X_test[['Revenue']].copy()\n",
        "X_sub.to_csv(r\"C:\\Users\\olive\\Documents\\GitHub\\Kaggle-ColombusRetailClassification\\experiments\\e5_dnn.csv\")"
      ],
      "execution_count": 0,
      "outputs": []
    },
    {
      "cell_type": "code",
      "metadata": {
        "id": "5iptdDC2SCum",
        "colab_type": "code",
        "colab": {}
      },
      "source": [
        ""
      ],
      "execution_count": 0,
      "outputs": []
    },
    {
      "cell_type": "code",
      "metadata": {
        "id": "0GGFu8snSzok",
        "colab_type": "code",
        "colab": {}
      },
      "source": [
        ""
      ],
      "execution_count": 0,
      "outputs": []
    }
  ]
}